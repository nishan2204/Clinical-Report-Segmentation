{
 "cells": [
  {
   "cell_type": "code",
   "execution_count": 1,
   "metadata": {
    "colab": {
     "base_uri": "https://localhost:8080/",
     "height": 138
    },
    "colab_type": "code",
    "executionInfo": {
     "elapsed": 1320,
     "status": "ok",
     "timestamp": 1556371695274,
     "user": {
      "displayName": "Ganesh Vanama",
      "photoUrl": "",
      "userId": "04251262561809731170"
     },
     "user_tz": 420
    },
    "id": "YaYktF5A-hnA",
    "outputId": "8687ef23-5997-4193-e082-9fe8df345626"
   },
   "outputs": [
    {
     "name": "stdout",
     "output_type": "stream",
     "text": [
      "Drive already mounted at /content/drive/; to attempt to forcibly remount, call drive.mount(\"/content/drive/\", force_remount=True).\n",
      "/content/drive/My Drive/nlp_project\n",
      " bert\t\t\t\t\t       'Clinical Segmentation ML.ipynb'\n",
      " bert_output\t\t\t\t        data\n",
      " cased_L-12_H-768_A-12\t\t\t        data_cleaned.tsv\n",
      "'Clinical Note Segmentation using BERT.ipynb'   uncased_L-12_H-768_A-12\n"
     ]
    }
   ],
   "source": [
    "# Mounting drive to colab notebook\n",
    "from  google.colab import drive\n",
    "drive.mount('/content/drive/')\n",
    "#change to current working directory\n",
    "%cd 'drive/My Drive/nlp_project'\n",
    "!ls"
   ]
  },
  {
   "cell_type": "code",
   "execution_count": 0,
   "metadata": {
    "colab": {},
    "colab_type": "code",
    "id": "vPc-FVG917D3"
   },
   "outputs": [],
   "source": [
    "import pandas as pd\n",
    "import numpy as np\n",
    "from tqdm import tqdm\n",
    "tqdm.pandas(desc=\"progress-bar\")\n",
    "from gensim.models import Doc2Vec\n",
    "from sklearn import utils\n",
    "from sklearn.model_selection import train_test_split\n",
    "import gensim\n",
    "from sklearn.linear_model import LogisticRegression\n",
    "from gensim.models.doc2vec import TaggedDocument\n",
    "import re\n",
    "import seaborn as sns\n",
    "import matplotlib.pyplot as plt"
   ]
  },
  {
   "cell_type": "code",
   "execution_count": 0,
   "metadata": {
    "colab": {
     "base_uri": "https://localhost:8080/",
     "height": 74,
     "resources": {
      "http://localhost:8080/nbextensions/google.colab/files.js": {
       "data": "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",
       "headers": [
        [
         "content-type",
         "application/javascript"
        ]
       ],
       "ok": true,
       "status": 200,
       "status_text": ""
      }
     }
    },
    "colab_type": "code",
    "executionInfo": {
     "elapsed": 101303,
     "status": "ok",
     "timestamp": 1556361639026,
     "user": {
      "displayName": "Balavenkat Gottimukkala",
      "photoUrl": "",
      "userId": "07923725877980302178"
     },
     "user_tz": 420
    },
    "id": "_q6KsZLp49Lf",
    "outputId": "bc257b7f-b063-4349-f127-e58eab249aca"
   },
   "outputs": [
    {
     "data": {
      "text/html": [
       "\n",
       "     <input type=\"file\" id=\"files-3159f6d4-3c76-482e-ad83-20d0914d2344\" name=\"files[]\" multiple disabled />\n",
       "     <output id=\"result-3159f6d4-3c76-482e-ad83-20d0914d2344\">\n",
       "      Upload widget is only available when the cell has been executed in the\n",
       "      current browser session. Please rerun this cell to enable.\n",
       "      </output>\n",
       "      <script src=\"/nbextensions/google.colab/files.js\"></script> "
      ],
      "text/plain": [
       "<IPython.core.display.HTML object>"
      ]
     },
     "metadata": {
      "tags": []
     },
     "output_type": "display_data"
    },
    {
     "name": "stdout",
     "output_type": "stream",
     "text": [
      "Saving data_cleaned.tsv to data_cleaned.tsv\n"
     ]
    }
   ],
   "source": [
    "from google.colab import files\n",
    "uploaded = files.upload()"
   ]
  },
  {
   "cell_type": "code",
   "execution_count": 4,
   "metadata": {
    "colab": {
     "base_uri": "https://localhost:8080/",
     "height": 54
    },
    "colab_type": "code",
    "executionInfo": {
     "elapsed": 446,
     "status": "ok",
     "timestamp": 1556371729995,
     "user": {
      "displayName": "Ganesh Vanama",
      "photoUrl": "",
      "userId": "04251262561809731170"
     },
     "user_tz": 420
    },
    "id": "HDHvRHBF17D9",
    "outputId": "6dc4c70d-3a0e-4794-cadd-2175680bd7ab"
   },
   "outputs": [
    {
     "name": "stderr",
     "output_type": "stream",
     "text": [
      "b'Skipping line 24: expected 4 fields, saw 10\\nSkipping line 32: expected 4 fields, saw 80\\nSkipping line 189: expected 4 fields, saw 6\\nSkipping line 194: expected 4 fields, saw 6\\nSkipping line 195: expected 4 fields, saw 6\\nSkipping line 212: expected 4 fields, saw 5\\nSkipping line 239: expected 4 fields, saw 6\\nSkipping line 259: expected 4 fields, saw 44\\nSkipping line 274: expected 4 fields, saw 6\\nSkipping line 297: expected 4 fields, saw 22\\nSkipping line 332: expected 4 fields, saw 6\\nSkipping line 418: expected 4 fields, saw 22\\nSkipping line 419: expected 4 fields, saw 60\\nSkipping line 422: expected 4 fields, saw 36\\nSkipping line 461: expected 4 fields, saw 10\\nSkipping line 469: expected 4 fields, saw 758\\nSkipping line 583: expected 4 fields, saw 36\\nSkipping line 751: expected 4 fields, saw 6\\nSkipping line 767: expected 4 fields, saw 6\\nSkipping line 829: expected 4 fields, saw 10\\nSkipping line 835: expected 4 fields, saw 22\\nSkipping line 840: expected 4 fields, saw 20\\nSkipping line 924: expected 4 fields, saw 14\\nSkipping line 926: expected 4 fields, saw 12\\nSkipping line 930: expected 4 fields, saw 6\\nSkipping line 986: expected 4 fields, saw 22\\nSkipping line 1009: expected 4 fields, saw 36\\nSkipping line 1049: expected 4 fields, saw 6\\nSkipping line 1085: expected 4 fields, saw 160\\nSkipping line 1115: expected 4 fields, saw 5\\nSkipping line 1123: expected 4 fields, saw 20\\nSkipping line 1124: expected 4 fields, saw 94\\nSkipping line 1229: expected 4 fields, saw 6\\nSkipping line 1249: expected 4 fields, saw 138\\nSkipping line 1284: expected 4 fields, saw 22\\nSkipping line 1301: expected 4 fields, saw 6\\nSkipping line 1303: expected 4 fields, saw 6\\nSkipping line 1321: expected 4 fields, saw 6\\nSkipping line 1335: expected 4 fields, saw 28\\nSkipping line 1345: expected 4 fields, saw 532\\nSkipping line 1443: expected 4 fields, saw 6\\nSkipping line 1451: expected 4 fields, saw 14\\nSkipping line 1454: expected 4 fields, saw 30\\nSkipping line 1485: expected 4 fields, saw 8\\nSkipping line 1503: expected 4 fields, saw 276\\nSkipping line 1544: expected 4 fields, saw 28\\nSkipping line 1551: expected 4 fields, saw 18\\nSkipping line 1552: expected 4 fields, saw 6\\nSkipping line 1579: expected 4 fields, saw 6\\nSkipping line 1580: expected 4 fields, saw 6\\nSkipping line 1634: expected 4 fields, saw 12\\nSkipping line 1659: expected 4 fields, saw 26\\nSkipping line 1674: expected 4 fields, saw 26\\nSkipping line 1679: expected 4 fields, saw 6\\nSkipping line 1784: expected 4 fields, saw 30\\nSkipping line 1808: expected 4 fields, saw 14\\nSkipping line 1876: expected 4 fields, saw 24\\nSkipping line 1923: expected 4 fields, saw 6\\nSkipping line 1965: expected 4 fields, saw 24\\nSkipping line 1969: expected 4 fields, saw 6\\n'\n"
     ]
    }
   ],
   "source": [
    "df = pd.read_csv('data_cleaned.tsv', sep='\\t',error_bad_lines=False)"
   ]
  },
  {
   "cell_type": "code",
   "execution_count": 5,
   "metadata": {
    "colab": {
     "base_uri": "https://localhost:8080/",
     "height": 363
    },
    "colab_type": "code",
    "executionInfo": {
     "elapsed": 185,
     "status": "ok",
     "timestamp": 1556371732666,
     "user": {
      "displayName": "Ganesh Vanama",
      "photoUrl": "",
      "userId": "04251262561809731170"
     },
     "user_tz": 420
    },
    "id": "Z225tHuV17ED",
    "outputId": "fa704402-effa-401a-f47b-e81331e95661"
   },
   "outputs": [
    {
     "data": {
      "text/html": [
       "<div>\n",
       "<style scoped>\n",
       "    .dataframe tbody tr th:only-of-type {\n",
       "        vertical-align: middle;\n",
       "    }\n",
       "\n",
       "    .dataframe tbody tr th {\n",
       "        vertical-align: top;\n",
       "    }\n",
       "\n",
       "    .dataframe thead th {\n",
       "        text-align: right;\n",
       "    }\n",
       "</style>\n",
       "<table border=\"1\" class=\"dataframe\">\n",
       "  <thead>\n",
       "    <tr style=\"text-align: right;\">\n",
       "      <th></th>\n",
       "      <th>RECORD_ID</th>\n",
       "      <th>HEADER_TYPE</th>\n",
       "      <th>SECTION_TEXT</th>\n",
       "      <th>ORIGINAL_TEXT</th>\n",
       "    </tr>\n",
       "  </thead>\n",
       "  <tbody>\n",
       "    <tr>\n",
       "      <th>0</th>\n",
       "      <td>299-05</td>\n",
       "      <td>social_history</td>\n",
       "      <td>\\n;nothing new to report\\n;nothing new to report</td>\n",
       "      <td>Social History:\\n;nothing new to report\\n;noth...</td>\n",
       "    </tr>\n",
       "    <tr>\n",
       "      <th>1</th>\n",
       "      <td>181-03</td>\n",
       "      <td>history_present_illness</td>\n",
       "      <td>Briefly, Ms. Levin is a 54-year-old female ...</td>\n",
       "      <td>HISTORY OF PRESENT ILLNESS:  Briefly, Ms. Levi...</td>\n",
       "    </tr>\n",
       "    <tr>\n",
       "      <th>2</th>\n",
       "      <td>342-03</td>\n",
       "      <td>history_present_illness</td>\n",
       "      <td>\\nMrs Barr has been doing well.\\nHas a 8 weeks...</td>\n",
       "      <td>History of Present Illness\\nMrs Barr has been ...</td>\n",
       "    </tr>\n",
       "    <tr>\n",
       "      <th>3</th>\n",
       "      <td>342-03</td>\n",
       "      <td>medications</td>\n",
       "      <td>\\nPlavix (CLOPIDOGREL) 75 MG (75MG TABLET take...</td>\n",
       "      <td>Medications\\nPlavix (CLOPIDOGREL) 75 MG (75MG ...</td>\n",
       "    </tr>\n",
       "    <tr>\n",
       "      <th>4</th>\n",
       "      <td>343-02</td>\n",
       "      <td>history_present_illness</td>\n",
       "      <td>HISTORY OF PRESENTING COMPLAINT   Mr. Killian ...</td>\n",
       "      <td>HISTORY OF PRESENTING COMPLAINT:  Mr. Killian ...</td>\n",
       "    </tr>\n",
       "  </tbody>\n",
       "</table>\n",
       "</div>"
      ],
      "text/plain": [
       "  RECORD_ID              HEADER_TYPE  \\\n",
       "0    299-05           social_history   \n",
       "1    181-03  history_present_illness   \n",
       "2    342-03  history_present_illness   \n",
       "3    342-03              medications   \n",
       "4    343-02  history_present_illness   \n",
       "\n",
       "                                        SECTION_TEXT  \\\n",
       "0   \\n;nothing new to report\\n;nothing new to report   \n",
       "1     Briefly, Ms. Levin is a 54-year-old female ...   \n",
       "2  \\nMrs Barr has been doing well.\\nHas a 8 weeks...   \n",
       "3  \\nPlavix (CLOPIDOGREL) 75 MG (75MG TABLET take...   \n",
       "4  HISTORY OF PRESENTING COMPLAINT   Mr. Killian ...   \n",
       "\n",
       "                                       ORIGINAL_TEXT  \n",
       "0  Social History:\\n;nothing new to report\\n;noth...  \n",
       "1  HISTORY OF PRESENT ILLNESS:  Briefly, Ms. Levi...  \n",
       "2  History of Present Illness\\nMrs Barr has been ...  \n",
       "3  Medications\\nPlavix (CLOPIDOGREL) 75 MG (75MG ...  \n",
       "4  HISTORY OF PRESENTING COMPLAINT:  Mr. Killian ...  "
      ]
     },
     "execution_count": 5,
     "metadata": {
      "tags": []
     },
     "output_type": "execute_result"
    }
   ],
   "source": [
    "df.head()"
   ]
  },
  {
   "cell_type": "code",
   "execution_count": 6,
   "metadata": {
    "colab": {
     "base_uri": "https://localhost:8080/",
     "height": 54
    },
    "colab_type": "code",
    "executionInfo": {
     "elapsed": 235,
     "status": "ok",
     "timestamp": 1556371735116,
     "user": {
      "displayName": "Ganesh Vanama",
      "photoUrl": "",
      "userId": "04251262561809731170"
     },
     "user_tz": 420
    },
    "id": "1BlgQMjf17EH",
    "outputId": "1391324e-7e1e-43d4-f8c8-17edeef6badf"
   },
   "outputs": [
    {
     "data": {
      "text/plain": [
       "'   Briefly, Ms. Levin is a 54-year-old female with diabetes, hypertension, hypercholesterolemia, who has known coronary artery disease.\\\\nShe had an exercise test in 2076 for some vague symptoms, which was positive, and led to cardiac catheterization.\\\\nThis catheterization revealed 60% LAD lesion, 50% first marginal, 60% RCA, and a 70% diagonal lesion.\\\\nShe was maintained on medical management with few symptoms.\\\\nShe has been lost to followup from Cardiology Clinic.\\\\nShe has within the last week developed increasing symptoms with minimal exertion.\\\\nShe underwent a stress test in which she was able to exercise for 6 minutes and 9 seconds on the Bruce protocol.\\\\nShe achieved 93% of age-predicted maximal heart rate.\\\\nAt 4 minutes, she developed 2 mm ST segment depressions in the anterior leads associated with chest discomfort.\\\\nShe is a vague historian, but has not had clear rest anginal symptoms.\\\\nShe had an exercise test in 2076 for some vague symptoms, which was positive, and led to cardiac catheterization.\\\\nThis catheterization revealed 60% LAD lesion, 50% first marginal, 60% RCA, and a 70% diagonal lesion.\\\\nShe was maintained on medical management with few symptoms.\\\\nShe has been lost to followup from Cardiology Clinic.\\\\nShe has within the last week developed increasing symptoms with minimal exertion.\\\\nShe underwent a stress test in which she was able to exercise for 6 minutes and 9 seconds on the Bruce protocol.\\\\nShe achieved 93% of age-predicted maximal heart rate.\\\\nAt 4 minutes, she developed 2 mm ST segment depressions in the anterior leads associated with chest discomfort.\\\\nShe is a vague historian, but has not had clear rest anginal symptoms.\\\\nThis catheterization revealed 60% LAD lesion, 50% first marginal, 60% RCA, and a 70% diagonal lesion.\\\\nShe was maintained on medical management with few symptoms.\\\\nShe has been lost to followup from Cardiology Clinic.\\\\nShe has within the last week developed increasing symptoms with minimal exertion.\\\\nShe underwent a stress test in which she was able to exercise for 6 minutes and 9 seconds on the Bruce protocol.\\\\nShe achieved 93% of age-predicted maximal heart rate.\\\\nAt 4 minutes, she developed 2 mm ST segment depressions in the anterior leads associated with chest discomfort.\\\\nShe is a vague historian, but has not had clear rest anginal symptoms.\\\\nShe was maintained on medical management with few symptoms.\\\\nShe has been lost to followup from Cardiology Clinic.\\\\nShe has within the last week developed increasing symptoms with minimal exertion.\\\\nShe underwent a stress test in which she was able to exercise for 6 minutes and 9 seconds on the Bruce protocol.\\\\nShe achieved 93% of age-predicted maximal heart rate.\\\\nAt 4 minutes, she developed 2 mm ST segment depressions in the anterior leads associated with chest discomfort.\\\\nShe is a vague historian, but has not had clear rest anginal symptoms.\\\\nShe has been lost to followup from Cardiology Clinic.\\\\nShe has within the last week developed increasing symptoms with minimal exertion.\\\\nShe underwent a stress test in which she was able to exercise for 6 minutes and 9 seconds on the Bruce protocol.\\\\nShe achieved 93% of age-predicted maximal heart rate.\\\\nAt 4 minutes, she developed 2 mm ST segment depressions in the anterior leads associated with chest discomfort.\\\\nShe is a vague historian, but has not had clear rest anginal symptoms.\\\\nShe has within the last week developed increasing symptoms with minimal exertion.\\\\nShe underwent a stress test in which she was able to exercise for 6 minutes and 9 seconds on the Bruce protocol.\\\\nShe achieved 93% of age-predicted maximal heart rate.\\\\nAt 4 minutes, she developed 2 mm ST segment depressions in the anterior leads associated with chest discomfort.\\\\nShe is a vague historian, but has not had clear rest anginal symptoms.\\\\nShe underwent a stress test in which she was able to exercise for 6 minutes and 9 seconds on the Bruce protocol.\\\\nShe achieved 93% of age-predicted maximal heart rate.\\\\nAt 4 minutes, she developed 2 mm ST segment depressions in the anterior leads associated with chest discomfort.\\\\nShe is a vague historian, but has not had clear rest anginal symptoms.\\\\nShe achieved 93% of age-predicted maximal heart rate.\\\\nAt 4 minutes, she developed 2 mm ST segment depressions in the anterior leads associated with chest discomfort.\\\\nShe is a vague historian, but has not had clear rest anginal symptoms.\\\\nAt 4 minutes, she developed 2 mm ST segment depressions in the anterior leads associated with chest discomfort.\\\\nShe is a vague historian, but has not had clear rest anginal symptoms.\\\\nShe is a vague historian, but has not had clear rest anginal symptoms.'"
      ]
     },
     "execution_count": 6,
     "metadata": {
      "tags": []
     },
     "output_type": "execute_result"
    }
   ],
   "source": [
    "df['SECTION_TEXT'][1]"
   ]
  },
  {
   "cell_type": "code",
   "execution_count": 7,
   "metadata": {
    "colab": {
     "base_uri": "https://localhost:8080/",
     "height": 34
    },
    "colab_type": "code",
    "executionInfo": {
     "elapsed": 200,
     "status": "ok",
     "timestamp": 1556371737627,
     "user": {
      "displayName": "Ganesh Vanama",
      "photoUrl": "",
      "userId": "04251262561809731170"
     },
     "user_tz": 420
    },
    "id": "VBKrnKNt17EM",
    "outputId": "5facf5e9-1300-459e-ba3a-0393fecba674"
   },
   "outputs": [
    {
     "data": {
      "text/plain": [
       "(1933, 4)"
      ]
     },
     "execution_count": 7,
     "metadata": {
      "tags": []
     },
     "output_type": "execute_result"
    }
   ],
   "source": [
    "df.shape"
   ]
  },
  {
   "cell_type": "code",
   "execution_count": 8,
   "metadata": {
    "colab": {
     "base_uri": "https://localhost:8080/",
     "height": 34
    },
    "colab_type": "code",
    "executionInfo": {
     "elapsed": 185,
     "status": "ok",
     "timestamp": 1556371739748,
     "user": {
      "displayName": "Ganesh Vanama",
      "photoUrl": "",
      "userId": "04251262561809731170"
     },
     "user_tz": 420
    },
    "id": "QGzjh-NN17ER",
    "outputId": "d661ecf9-f9b3-4f29-9233-b0ac4c7459d1"
   },
   "outputs": [
    {
     "data": {
      "text/plain": [
       "(1923, 4)"
      ]
     },
     "execution_count": 8,
     "metadata": {
      "tags": []
     },
     "output_type": "execute_result"
    }
   ],
   "source": [
    "df = df.dropna()\n",
    "df.shape"
   ]
  },
  {
   "cell_type": "code",
   "execution_count": 9,
   "metadata": {
    "colab": {
     "base_uri": "https://localhost:8080/",
     "height": 84
    },
    "colab_type": "code",
    "executionInfo": {
     "elapsed": 272,
     "status": "ok",
     "timestamp": 1556371743346,
     "user": {
      "displayName": "Ganesh Vanama",
      "photoUrl": "",
      "userId": "04251262561809731170"
     },
     "user_tz": 420
    },
    "id": "E7FKfA0q17EV",
    "outputId": "d0b0563a-25e3-449e-94a7-a25974fb9b39"
   },
   "outputs": [
    {
     "data": {
      "text/plain": [
       "history_present_illness    789\n",
       "medications                662\n",
       "social_history             472\n",
       "Name: HEADER_TYPE, dtype: int64"
      ]
     },
     "execution_count": 9,
     "metadata": {
      "tags": []
     },
     "output_type": "execute_result"
    }
   ],
   "source": [
    "df['HEADER_TYPE'].value_counts()"
   ]
  },
  {
   "cell_type": "code",
   "execution_count": 10,
   "metadata": {
    "colab": {
     "base_uri": "https://localhost:8080/",
     "height": 363
    },
    "colab_type": "code",
    "executionInfo": {
     "elapsed": 253,
     "status": "ok",
     "timestamp": 1556371745513,
     "user": {
      "displayName": "Ganesh Vanama",
      "photoUrl": "",
      "userId": "04251262561809731170"
     },
     "user_tz": 420
    },
    "id": "KiTX1nlt17Ed",
    "outputId": "3830905a-a057-4417-c670-2bc34001d093"
   },
   "outputs": [
    {
     "data": {
      "text/html": [
       "<div>\n",
       "<style scoped>\n",
       "    .dataframe tbody tr th:only-of-type {\n",
       "        vertical-align: middle;\n",
       "    }\n",
       "\n",
       "    .dataframe tbody tr th {\n",
       "        vertical-align: top;\n",
       "    }\n",
       "\n",
       "    .dataframe thead th {\n",
       "        text-align: right;\n",
       "    }\n",
       "</style>\n",
       "<table border=\"1\" class=\"dataframe\">\n",
       "  <thead>\n",
       "    <tr style=\"text-align: right;\">\n",
       "      <th></th>\n",
       "      <th>RECORD_ID</th>\n",
       "      <th>HEADER_TYPE</th>\n",
       "      <th>SECTION_TEXT</th>\n",
       "      <th>ORIGINAL_TEXT</th>\n",
       "    </tr>\n",
       "  </thead>\n",
       "  <tbody>\n",
       "    <tr>\n",
       "      <th>0</th>\n",
       "      <td>299-05</td>\n",
       "      <td>social_history</td>\n",
       "      <td>\\n;nothing new to report\\n;nothing new to report</td>\n",
       "      <td>Social History:\\n;nothing new to report\\n;noth...</td>\n",
       "    </tr>\n",
       "    <tr>\n",
       "      <th>1</th>\n",
       "      <td>181-03</td>\n",
       "      <td>history_present_illness</td>\n",
       "      <td>Briefly, Ms. Levin is a 54-year-old female ...</td>\n",
       "      <td>HISTORY OF PRESENT ILLNESS:  Briefly, Ms. Levi...</td>\n",
       "    </tr>\n",
       "    <tr>\n",
       "      <th>2</th>\n",
       "      <td>342-03</td>\n",
       "      <td>history_present_illness</td>\n",
       "      <td>\\nMrs Barr has been doing well.\\nHas a 8 weeks...</td>\n",
       "      <td>History of Present Illness\\nMrs Barr has been ...</td>\n",
       "    </tr>\n",
       "    <tr>\n",
       "      <th>3</th>\n",
       "      <td>342-03</td>\n",
       "      <td>medications</td>\n",
       "      <td>\\nPlavix (CLOPIDOGREL) 75 MG (75MG TABLET take...</td>\n",
       "      <td>Medications\\nPlavix (CLOPIDOGREL) 75 MG (75MG ...</td>\n",
       "    </tr>\n",
       "    <tr>\n",
       "      <th>4</th>\n",
       "      <td>343-02</td>\n",
       "      <td>history_present_illness</td>\n",
       "      <td>HISTORY OF PRESENTING COMPLAINT   Mr. Killian ...</td>\n",
       "      <td>HISTORY OF PRESENTING COMPLAINT:  Mr. Killian ...</td>\n",
       "    </tr>\n",
       "  </tbody>\n",
       "</table>\n",
       "</div>"
      ],
      "text/plain": [
       "  RECORD_ID              HEADER_TYPE  \\\n",
       "0    299-05           social_history   \n",
       "1    181-03  history_present_illness   \n",
       "2    342-03  history_present_illness   \n",
       "3    342-03              medications   \n",
       "4    343-02  history_present_illness   \n",
       "\n",
       "                                        SECTION_TEXT  \\\n",
       "0   \\n;nothing new to report\\n;nothing new to report   \n",
       "1     Briefly, Ms. Levin is a 54-year-old female ...   \n",
       "2  \\nMrs Barr has been doing well.\\nHas a 8 weeks...   \n",
       "3  \\nPlavix (CLOPIDOGREL) 75 MG (75MG TABLET take...   \n",
       "4  HISTORY OF PRESENTING COMPLAINT   Mr. Killian ...   \n",
       "\n",
       "                                       ORIGINAL_TEXT  \n",
       "0  Social History:\\n;nothing new to report\\n;noth...  \n",
       "1  HISTORY OF PRESENT ILLNESS:  Briefly, Ms. Levi...  \n",
       "2  History of Present Illness\\nMrs Barr has been ...  \n",
       "3  Medications\\nPlavix (CLOPIDOGREL) 75 MG (75MG ...  \n",
       "4  HISTORY OF PRESENTING COMPLAINT:  Mr. Killian ...  "
      ]
     },
     "execution_count": 10,
     "metadata": {
      "tags": []
     },
     "output_type": "execute_result"
    }
   ],
   "source": [
    "df.head()"
   ]
  },
  {
   "cell_type": "code",
   "execution_count": 0,
   "metadata": {
    "colab": {},
    "colab_type": "code",
    "id": "MbNCcSIE17Ei"
   },
   "outputs": [],
   "source": [
    "from gensim.models import doc2vec\n",
    "def label_sentences(corpus, label_type):\n",
    "    \"\"\"\n",
    "    Gensim's Doc2Vec implementation requires each document/paragraph to have a label associated with it.\n",
    "    We do this by using the TaggedDocument method. The format will be \"TRAIN_i\" or \"TEST_i\" where \"i\" is\n",
    "    a dummy index of the clinical notes.\n",
    "    \"\"\"\n",
    "    labeled = []\n",
    "    for i, v in enumerate(corpus):\n",
    "        label = label_type + '_' + str(i)\n",
    "        labeled.append(doc2vec.TaggedDocument(v.split(), [label]))\n",
    "    return labeled"
   ]
  },
  {
   "cell_type": "code",
   "execution_count": 0,
   "metadata": {
    "colab": {},
    "colab_type": "code",
    "id": "3Wl_pt_C17Em"
   },
   "outputs": [],
   "source": [
    "\n",
    "X_train, X_test, y_train, y_test = train_test_split(df.SECTION_TEXT, df.HEADER_TYPE, random_state=0, test_size=0.3)\n",
    "X_train = label_sentences(X_train, 'Train')\n",
    "X_test = label_sentences(X_test, 'Test')\n",
    "all_data = X_train + X_test"
   ]
  },
  {
   "cell_type": "code",
   "execution_count": 13,
   "metadata": {
    "colab": {
     "base_uri": "https://localhost:8080/",
     "height": 34
    },
    "colab_type": "code",
    "executionInfo": {
     "elapsed": 234,
     "status": "ok",
     "timestamp": 1556371752663,
     "user": {
      "displayName": "Ganesh Vanama",
      "photoUrl": "",
      "userId": "04251262561809731170"
     },
     "user_tz": 420
    },
    "id": "K5NTDv2P17Eq",
    "outputId": "be6cd692-2024-41e6-e9f4-fe5f77000c08"
   },
   "outputs": [
    {
     "data": {
      "text/plain": [
       "1923"
      ]
     },
     "execution_count": 13,
     "metadata": {
      "tags": []
     },
     "output_type": "execute_result"
    }
   ],
   "source": [
    "len(all_data)"
   ]
  },
  {
   "cell_type": "code",
   "execution_count": 14,
   "metadata": {
    "colab": {
     "base_uri": "https://localhost:8080/",
     "height": 54
    },
    "colab_type": "code",
    "executionInfo": {
     "elapsed": 268,
     "status": "ok",
     "timestamp": 1556371753888,
     "user": {
      "displayName": "Ganesh Vanama",
      "photoUrl": "",
      "userId": "04251262561809731170"
     },
     "user_tz": 420
    },
    "id": "282L-BKf17Ev",
    "outputId": "72cb86d2-5f9b-4cf0-8f50-be52fb821f7a"
   },
   "outputs": [
    {
     "data": {
      "text/plain": [
       "[TaggedDocument(words=['history;', 'no', 'focal', 'neurologic', 'signs.'], tags=['Train_0'])]"
      ]
     },
     "execution_count": 14,
     "metadata": {
      "tags": []
     },
     "output_type": "execute_result"
    }
   ],
   "source": [
    "all_data[:1]"
   ]
  },
  {
   "cell_type": "code",
   "execution_count": 15,
   "metadata": {
    "colab": {
     "base_uri": "https://localhost:8080/",
     "height": 34
    },
    "colab_type": "code",
    "executionInfo": {
     "elapsed": 1319,
     "status": "ok",
     "timestamp": 1556371756981,
     "user": {
      "displayName": "Ganesh Vanama",
      "photoUrl": "",
      "userId": "04251262561809731170"
     },
     "user_tz": 420
    },
    "id": "5vWnQXkT17Ez",
    "outputId": "9edaf607-43b3-436b-9d67-fab78a74ec93"
   },
   "outputs": [
    {
     "name": "stderr",
     "output_type": "stream",
     "text": [
      "100%|██████████| 1923/1923 [00:00<00:00, 343701.65it/s]\n"
     ]
    }
   ],
   "source": [
    "model_dbow = Doc2Vec(dm=0, vector_size=300, negative=5, min_count=1, alpha=0.065, min_alpha=0.065)\n",
    "model_dbow.build_vocab([x for x in tqdm(all_data)])"
   ]
  },
  {
   "cell_type": "code",
   "execution_count": 16,
   "metadata": {
    "colab": {
     "base_uri": "https://localhost:8080/",
     "height": 554
    },
    "colab_type": "code",
    "executionInfo": {
     "elapsed": 41506,
     "status": "ok",
     "timestamp": 1556371799847,
     "user": {
      "displayName": "Ganesh Vanama",
      "photoUrl": "",
      "userId": "04251262561809731170"
     },
     "user_tz": 420
    },
    "id": "mqOfoYBU17E6",
    "outputId": "fa6f081f-e242-4a2b-9b66-e29cfbd00419"
   },
   "outputs": [
    {
     "name": "stderr",
     "output_type": "stream",
     "text": [
      "100%|██████████| 1923/1923 [00:00<00:00, 1621235.50it/s]\n",
      "100%|██████████| 1923/1923 [00:00<00:00, 793394.31it/s]\n",
      "100%|██████████| 1923/1923 [00:00<00:00, 1608946.06it/s]\n",
      "100%|██████████| 1923/1923 [00:00<00:00, 1653474.09it/s]\n",
      "100%|██████████| 1923/1923 [00:00<00:00, 1434913.11it/s]\n",
      "100%|██████████| 1923/1923 [00:00<00:00, 1724903.04it/s]\n",
      "100%|██████████| 1923/1923 [00:00<00:00, 1806415.81it/s]\n",
      "100%|██████████| 1923/1923 [00:00<00:00, 1826046.32it/s]\n",
      "100%|██████████| 1923/1923 [00:00<00:00, 1614097.78it/s]\n",
      "100%|██████████| 1923/1923 [00:00<00:00, 1650429.01it/s]\n",
      "100%|██████████| 1923/1923 [00:00<00:00, 1866183.85it/s]\n",
      "100%|██████████| 1923/1923 [00:00<00:00, 1701613.21it/s]\n",
      "100%|██████████| 1923/1923 [00:00<00:00, 1661991.88it/s]\n",
      "100%|██████████| 1923/1923 [00:00<00:00, 1813727.59it/s]\n",
      "100%|██████████| 1923/1923 [00:00<00:00, 400439.21it/s]\n",
      "100%|██████████| 1923/1923 [00:00<00:00, 1619607.75it/s]\n",
      "100%|██████████| 1923/1923 [00:00<00:00, 1981244.56it/s]\n",
      "100%|██████████| 1923/1923 [00:00<00:00, 1636365.71it/s]\n",
      "100%|██████████| 1923/1923 [00:00<00:00, 517792.04it/s]\n",
      "100%|██████████| 1923/1923 [00:00<00:00, 1827701.47it/s]\n",
      "100%|██████████| 1923/1923 [00:00<00:00, 2017420.36it/s]\n",
      "100%|██████████| 1923/1923 [00:00<00:00, 1665079.81it/s]\n",
      "100%|██████████| 1923/1923 [00:00<00:00, 463090.46it/s]\n",
      "100%|██████████| 1923/1923 [00:00<00:00, 523097.90it/s]\n",
      "100%|██████████| 1923/1923 [00:00<00:00, 1757221.48it/s]\n",
      "100%|██████████| 1923/1923 [00:00<00:00, 1699103.98it/s]\n",
      "100%|██████████| 1923/1923 [00:00<00:00, 1992993.97it/s]\n",
      "100%|██████████| 1923/1923 [00:00<00:00, 1634707.46it/s]\n",
      "100%|██████████| 1923/1923 [00:00<00:00, 2007878.17it/s]\n",
      "100%|██████████| 1923/1923 [00:00<00:00, 1862305.84it/s]\n"
     ]
    },
    {
     "name": "stdout",
     "output_type": "stream",
     "text": [
      "CPU times: user 1min 17s, sys: 468 ms, total: 1min 18s\n",
      "Wall time: 41.3 s\n"
     ]
    }
   ],
   "source": [
    "%%time\n",
    "for epoch in range(30):\n",
    "    model_dbow.train(utils.shuffle([x for x in tqdm(all_data)]), total_examples=len(all_data), epochs=1)\n",
    "    model_dbow.alpha -= 0.002\n",
    "    model_dbow.min_alpha = model_dbow.alpha"
   ]
  },
  {
   "cell_type": "code",
   "execution_count": 0,
   "metadata": {
    "colab": {},
    "colab_type": "code",
    "id": "OGOzugVC17FC"
   },
   "outputs": [],
   "source": [
    "def get_vectors(model, corpus_size, vectors_size, vectors_type):\n",
    "    \"\"\"\n",
    "    Get vectors from trained doc2vec model\n",
    "    :param doc2vec_model: Trained Doc2Vec model\n",
    "    :param corpus_size: Size of the data\n",
    "    :param vectors_size: Size of the embedding vectors\n",
    "    :param vectors_type: Training or Testing vectors\n",
    "    :return: list of vectors\n",
    "    \"\"\"\n",
    "    vectors = np.zeros((corpus_size, vectors_size))\n",
    "    for i in range(0, corpus_size):\n",
    "        prefix = vectors_type + '_' + str(i)\n",
    "        vectors[i] = model.docvecs[prefix]\n",
    "    return vectors"
   ]
  },
  {
   "cell_type": "code",
   "execution_count": 0,
   "metadata": {
    "colab": {},
    "colab_type": "code",
    "id": "Zl5IM_j217FG"
   },
   "outputs": [],
   "source": [
    "train_vectors_dbow = get_vectors(model_dbow, len(X_train), 300, 'Train')\n",
    "test_vectors_dbow = get_vectors(model_dbow, len(X_test), 300, 'Test')"
   ]
  },
  {
   "cell_type": "code",
   "execution_count": 19,
   "metadata": {
    "colab": {
     "base_uri": "https://localhost:8080/",
     "height": 34
    },
    "colab_type": "code",
    "executionInfo": {
     "elapsed": 210,
     "status": "ok",
     "timestamp": 1556371819952,
     "user": {
      "displayName": "Ganesh Vanama",
      "photoUrl": "",
      "userId": "04251262561809731170"
     },
     "user_tz": 420
    },
    "id": "fC098l0wAnDx",
    "outputId": "d7b77992-8f1a-42ff-e6bf-1dcbdda353b4"
   },
   "outputs": [
    {
     "data": {
      "text/plain": [
       "((1346, 300), (1346,))"
      ]
     },
     "execution_count": 19,
     "metadata": {
      "tags": []
     },
     "output_type": "execute_result"
    }
   ],
   "source": [
    "train_vectors_dbow.shape,y_train.shape"
   ]
  },
  {
   "cell_type": "code",
   "execution_count": 20,
   "metadata": {
    "colab": {
     "base_uri": "https://localhost:8080/",
     "height": 84
    },
    "colab_type": "code",
    "executionInfo": {
     "elapsed": 316,
     "status": "ok",
     "timestamp": 1556371821779,
     "user": {
      "displayName": "Ganesh Vanama",
      "photoUrl": "",
      "userId": "04251262561809731170"
     },
     "user_tz": 420
    },
    "id": "QmeRgwVR17FL",
    "outputId": "994db34e-af13-4f29-e3a5-182f04d4a1d3"
   },
   "outputs": [
    {
     "data": {
      "text/plain": [
       "LogisticRegression(C=1.0, class_weight=None, dual=False, fit_intercept=True,\n",
       "          intercept_scaling=1, max_iter=100, multi_class='multinomial',\n",
       "          n_jobs=None, penalty='l2', random_state=None, solver='lbfgs',\n",
       "          tol=0.0001, verbose=0, warm_start=False)"
      ]
     },
     "execution_count": 20,
     "metadata": {
      "tags": []
     },
     "output_type": "execute_result"
    }
   ],
   "source": [
    "from sklearn.linear_model import LogisticRegression\n",
    "\n",
    "logreg = LogisticRegression(multi_class='multinomial', solver = 'lbfgs')\n",
    "logreg.fit(train_vectors_dbow, y_train)"
   ]
  },
  {
   "cell_type": "code",
   "execution_count": 23,
   "metadata": {
    "colab": {
     "base_uri": "https://localhost:8080/",
     "height": 34
    },
    "colab_type": "code",
    "executionInfo": {
     "elapsed": 212,
     "status": "ok",
     "timestamp": 1556371835216,
     "user": {
      "displayName": "Ganesh Vanama",
      "photoUrl": "",
      "userId": "04251262561809731170"
     },
     "user_tz": 420
    },
    "id": "z8uYdmDSA82s",
    "outputId": "0c90f982-bce3-4488-fac1-170ddf3d0640"
   },
   "outputs": [
    {
     "data": {
      "text/plain": [
       "0.9081455805892548"
      ]
     },
     "execution_count": 23,
     "metadata": {
      "tags": []
     },
     "output_type": "execute_result"
    }
   ],
   "source": [
    "y_pred = logreg.predict(test_vectors_dbow)\n",
    "np.mean(y_pred == y_test)"
   ]
  },
  {
   "cell_type": "code",
   "execution_count": 24,
   "metadata": {
    "colab": {
     "base_uri": "https://localhost:8080/",
     "height": 34
    },
    "colab_type": "code",
    "executionInfo": {
     "elapsed": 385,
     "status": "ok",
     "timestamp": 1556371846967,
     "user": {
      "displayName": "Ganesh Vanama",
      "photoUrl": "",
      "userId": "04251262561809731170"
     },
     "user_tz": 420
    },
    "id": "bihqKrI4BHjO",
    "outputId": "ba0d03bb-8fe6-4915-aea4-cfa39d4fa03f"
   },
   "outputs": [
    {
     "data": {
      "text/plain": [
       "GaussianNB(priors=None, var_smoothing=1e-09)"
      ]
     },
     "execution_count": 24,
     "metadata": {
      "tags": []
     },
     "output_type": "execute_result"
    }
   ],
   "source": [
    "from sklearn.naive_bayes import GaussianNB\n",
    "\n",
    "model = GaussianNB()\n",
    "model.fit(train_vectors_dbow, y_train)"
   ]
  },
  {
   "cell_type": "code",
   "execution_count": 0,
   "metadata": {
    "colab": {},
    "colab_type": "code",
    "id": "6Ir2tBiRBHhL"
   },
   "outputs": [],
   "source": [
    "y_pred_NB = model.predict(test_vectors_dbow)"
   ]
  },
  {
   "cell_type": "code",
   "execution_count": 27,
   "metadata": {
    "colab": {
     "base_uri": "https://localhost:8080/",
     "height": 34
    },
    "colab_type": "code",
    "executionInfo": {
     "elapsed": 286,
     "status": "ok",
     "timestamp": 1556371854713,
     "user": {
      "displayName": "Ganesh Vanama",
      "photoUrl": "",
      "userId": "04251262561809731170"
     },
     "user_tz": 420
    },
    "id": "2BdGfysoa6sR",
    "outputId": "e3d21d35-463d-49b7-82f7-733205990aaf"
   },
   "outputs": [
    {
     "data": {
      "text/plain": [
       "0.8370883882149047"
      ]
     },
     "execution_count": 27,
     "metadata": {
      "tags": []
     },
     "output_type": "execute_result"
    }
   ],
   "source": [
    "np.mean(y_pred_NB == y_test)"
   ]
  },
  {
   "cell_type": "code",
   "execution_count": 28,
   "metadata": {
    "colab": {
     "base_uri": "https://localhost:8080/",
     "height": 34
    },
    "colab_type": "code",
    "executionInfo": {
     "elapsed": 224,
     "status": "ok",
     "timestamp": 1556371858715,
     "user": {
      "displayName": "Ganesh Vanama",
      "photoUrl": "",
      "userId": "04251262561809731170"
     },
     "user_tz": 420
    },
    "id": "25oCvSKg17FS",
    "outputId": "2ded2ef9-b53c-47d1-de56-2166066cf287"
   },
   "outputs": [
    {
     "data": {
      "text/plain": [
       "0.9081455805892548"
      ]
     },
     "execution_count": 28,
     "metadata": {
      "tags": []
     },
     "output_type": "execute_result"
    }
   ],
   "source": [
    "logreg.score(test_vectors_dbow, y_test)"
   ]
  },
  {
   "cell_type": "code",
   "execution_count": 29,
   "metadata": {
    "colab": {
     "base_uri": "https://localhost:8080/",
     "height": 118
    },
    "colab_type": "code",
    "executionInfo": {
     "elapsed": 198,
     "status": "ok",
     "timestamp": 1556371861710,
     "user": {
      "displayName": "Ganesh Vanama",
      "photoUrl": "",
      "userId": "04251262561809731170"
     },
     "user_tz": 420
    },
    "id": "KPiC76Cd17FY",
    "outputId": "b6dfedec-b7bd-45ac-b17e-000c496f8ec4"
   },
   "outputs": [
    {
     "name": "stdout",
     "output_type": "stream",
     "text": [
      "[[219   7  17]\n",
      " [  5 176   6]\n",
      " [  8  10 129]]\n",
      "f1_score (micro) = 0.9081455805892548\n",
      "f1_score (weighted) = 0.9083803135935805\n",
      "f1_score (macro) = 0.9037657689373937\n"
     ]
    }
   ],
   "source": [
    "from sklearn.metrics import confusion_matrix\n",
    "print(confusion_matrix(y_test, y_pred))\n",
    "\n",
    "from sklearn.metrics import f1_score\n",
    "print(\"f1_score (micro) = \" + str(f1_score(y_test, y_pred, average = 'micro')))\n",
    "print(\"f1_score (weighted) = \" + str(f1_score(y_test, y_pred, average = 'weighted')))\n",
    "print(\"f1_score (macro) = \" + str(f1_score(y_test, y_pred, average = 'macro')))"
   ]
  }
 ],
 "metadata": {
  "accelerator": "GPU",
  "colab": {
   "collapsed_sections": [],
   "name": "Clinical Segmentation ML.ipynb",
   "provenance": [],
   "version": "0.3.2"
  },
  "kernelspec": {
   "display_name": "Python 3",
   "language": "python",
   "name": "python3"
  },
  "language_info": {
   "codemirror_mode": {
    "name": "ipython",
    "version": 3
   },
   "file_extension": ".py",
   "mimetype": "text/x-python",
   "name": "python",
   "nbconvert_exporter": "python",
   "pygments_lexer": "ipython3",
   "version": "3.6.8"
  }
 },
 "nbformat": 4,
 "nbformat_minor": 1
}
